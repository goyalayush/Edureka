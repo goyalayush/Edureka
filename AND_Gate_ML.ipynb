{
 "cells": [
  {
   "cell_type": "code",
   "execution_count": 3,
   "metadata": {},
   "outputs": [
    {
     "name": "stdout",
     "output_type": "stream",
     "text": [
      "WARNING:tensorflow:From /home/ayush/.local/lib/python3.6/site-packages/tensorflow/python/util/tf_should_use.py:189: initialize_all_variables (from tensorflow.python.ops.variables) is deprecated and will be removed after 2017-03-02.\n",
      "Instructions for updating:\n",
      "Use `tf.global_variables_initializer` instead.\n",
      "epoch: 1 mse: 3.0\n",
      "epoch: 2 mse: 1.0\n",
      "epoch: 3 mse: 0.0\n"
     ]
    }
   ],
   "source": [
    "import tensorflow as tf\n",
    "\n",
    "T,F = 1., -1.\n",
    "bias = 1.0\n",
    "\n",
    "train_in = [\n",
    "    [T,T, bias],\n",
    "    [T,F, bias],\n",
    "    [F,T, bias],\n",
    "    [F,F, bias],\n",
    "]\n",
    "\n",
    "train_out = [\n",
    "    [T],\n",
    "    [F],\n",
    "    [F],\n",
    "    [F],\n",
    "]\n",
    "\n",
    "w = tf.Variable(tf.random_normal([3,1]))\n",
    "\n",
    "def step(x):\n",
    "    is_greater = tf.greater(x,0)\n",
    "    as_float = tf.to_float(is_greater)\n",
    "    doubled = tf.multiply(as_float,2)\n",
    "    return tf.subtract(doubled,1)\n",
    "\n",
    "output = step(tf.matmul(train_in, w))\n",
    "error = tf.subtract(train_out, output)\n",
    "mse = tf.reduce_mean(tf.square(error))\n",
    "\n",
    "delta = tf.matmul(train_in, error, transpose_a = True)\n",
    "train = tf.assign(w, tf.add(w, delta))\n",
    "\n",
    "sess = tf.Session()\n",
    "sess.run(tf.initialize_all_variables())\n",
    "\n",
    "err, target = 1, 0\n",
    "epoch, max_epoch = 0, 10\n",
    "while err > target and epoch < max_epoch:\n",
    "    epoch += 1\n",
    "    err, _= sess.run([mse, train])\n",
    "    print('epoch:', epoch, 'mse:', err)\n",
    "    "
   ]
  },
  {
   "cell_type": "code",
   "execution_count": null,
   "metadata": {},
   "outputs": [],
   "source": []
  }
 ],
 "metadata": {
  "kernelspec": {
   "display_name": "Python 3",
   "language": "python",
   "name": "python3"
  },
  "language_info": {
   "codemirror_mode": {
    "name": "ipython",
    "version": 3
   },
   "file_extension": ".py",
   "mimetype": "text/x-python",
   "name": "python",
   "nbconvert_exporter": "python",
   "pygments_lexer": "ipython3",
   "version": "3.6.6"
  }
 },
 "nbformat": 4,
 "nbformat_minor": 2
}
